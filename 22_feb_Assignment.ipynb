{
 "cells": [
  {
   "cell_type": "code",
   "execution_count": null,
   "id": "d5c43940-b904-49b8-ad22-a4cbe6aa2f9a",
   "metadata": {},
   "outputs": [],
   "source": [
    "Q1. Create a Pandas Series that contains the following data: 4, 8, 15, 16, 23, and 42. Then, print the series."
   ]
  },
  {
   "cell_type": "code",
   "execution_count": 2,
   "id": "22e5fda5-f605-4d35-8997-8d03c316f804",
   "metadata": {},
   "outputs": [],
   "source": [
    "pip install pandas\n",
    "import pandas as pd\n",
    "data =[4, 8, 15, 16, 23,42]\n",
    "series = pd.Series(data)\n",
    "print(series)"
   ]
  },
  {
   "cell_type": "code",
   "execution_count": null,
   "id": "0da76751-da1d-40e1-b237-7ad959ce04c5",
   "metadata": {},
   "outputs": [],
   "source": [
    "Q2. Create a variable of list type containing 10 elements in it, and apply pandas.Series function on the\n",
    "variable print it."
   ]
  },
  {
   "cell_type": "code",
   "execution_count": 7,
   "id": "c1844a9e-15a9-46a9-aa23-784999e0f2a5",
   "metadata": {},
   "outputs": [
    {
     "name": "stdout",
     "output_type": "stream",
     "text": [
      "0     1\n",
      "1     2\n",
      "2     3\n",
      "3     4\n",
      "4     5\n",
      "5     6\n",
      "6     7\n",
      "7     8\n",
      "8     9\n",
      "9    10\n",
      "dtype: int64\n"
     ]
    }
   ],
   "source": [
    "data1=[1,2,3,4,5,6,7,8,9,10]\n",
    "series1 = pd.Series(data1)\n",
    "print(series1)"
   ]
  },
  {
   "cell_type": "code",
   "execution_count": null,
   "id": "0d1ece94-751b-448b-89cc-84d9de2de1e7",
   "metadata": {},
   "outputs": [],
   "source": [
    "Q3.Create a Pandas DataFrame that contains the following data:"
   ]
  },
  {
   "cell_type": "code",
   "execution_count": 13,
   "id": "85f1253c-902a-45e7-8855-2488fe8d05d0",
   "metadata": {},
   "outputs": [
    {
     "data": {
      "text/html": [
       "<div>\n",
       "<style scoped>\n",
       "    .dataframe tbody tr th:only-of-type {\n",
       "        vertical-align: middle;\n",
       "    }\n",
       "\n",
       "    .dataframe tbody tr th {\n",
       "        vertical-align: top;\n",
       "    }\n",
       "\n",
       "    .dataframe thead th {\n",
       "        text-align: right;\n",
       "    }\n",
       "</style>\n",
       "<table border=\"1\" class=\"dataframe\">\n",
       "  <thead>\n",
       "    <tr style=\"text-align: right;\">\n",
       "      <th></th>\n",
       "      <th>name</th>\n",
       "      <th>age</th>\n",
       "      <th>gender</th>\n",
       "    </tr>\n",
       "  </thead>\n",
       "  <tbody>\n",
       "    <tr>\n",
       "      <th>0</th>\n",
       "      <td>Alice</td>\n",
       "      <td>30</td>\n",
       "      <td>male</td>\n",
       "    </tr>\n",
       "    <tr>\n",
       "      <th>1</th>\n",
       "      <td>Bob</td>\n",
       "      <td>24</td>\n",
       "      <td>female</td>\n",
       "    </tr>\n",
       "    <tr>\n",
       "      <th>2</th>\n",
       "      <td>Clair</td>\n",
       "      <td>54</td>\n",
       "      <td>male</td>\n",
       "    </tr>\n",
       "  </tbody>\n",
       "</table>\n",
       "</div>"
      ],
      "text/plain": [
       "    name  age  gender\n",
       "0  Alice   30    male\n",
       "1    Bob   24  female\n",
       "2  Clair   54    male"
      ]
     },
     "execution_count": 13,
     "metadata": {},
     "output_type": "execute_result"
    }
   ],
   "source": [
    "data2={'name':[\"Alice\",\"Bob\",\"Clair\"],\n",
    "      'age':[30,24,54],\n",
    "      'gender':[\"male\",\"female\",'male']}\n",
    "df = pd.DataFrame(data2)\n",
    "df"
   ]
  },
  {
   "cell_type": "code",
   "execution_count": null,
   "id": "7193d3be-5b39-4303-9398-5e592576870d",
   "metadata": {},
   "outputs": [],
   "source": [
    "Q4.What is ‘DataFrame’ in pandas and how is it different from pandas.series? Explain with an example."
   ]
  },
  {
   "cell_type": "code",
   "execution_count": null,
   "id": "954388d4-8fe8-430d-9337-a0a79aec3242",
   "metadata": {},
   "outputs": [],
   "source": [
    "In pandas, a DataFrame is a two-dimensional labeled data structure that can be thought of as a table, where each column can have a different data type.\n",
    "It's similar to a spreadsheet. It is created using dictionaries of Series or arrays. Each column in a DataFrame is a pandas Series.\n",
    "A Series in pandas is a one-dimensional labeled array capable of holding data of any type. It's similar to a single column in a DataFrame."
   ]
  },
  {
   "cell_type": "code",
   "execution_count": null,
   "id": "3627f914-b12e-40d5-8a06-2fe56fb8596b",
   "metadata": {},
   "outputs": [],
   "source": [
    "import pandas as pd\n",
    "\n",
    "# Creating a Series\n",
    "s = pd.Series([1, 2, 3, 4, 5])\n",
    "\n",
    "# Creating a DataFrame\n",
    "data = {'Numbers': [1, 2, 3, 4, 5]}\n",
    "df = pd.DataFrame(data)\n",
    "\n",
    "print(\"Series:\")\n",
    "print(s)\n",
    "\n",
    "print(\"\\nDataFrame:\")\n",
    "print(df)\n"
   ]
  },
  {
   "cell_type": "code",
   "execution_count": null,
   "id": "5e681542-2ad8-46c1-95c7-172248f387a8",
   "metadata": {},
   "outputs": [],
   "source": [
    "Series s contains a one-dimensional list of numbers. The DataFrame df contains a table with one column labeled 'Numbers' and the same set of numbers. \n",
    "The key difference is that the DataFrame has column labels and is a two-dimensional structure, whereas the Series is a one-dimensional structure"
   ]
  },
  {
   "cell_type": "code",
   "execution_count": null,
   "id": "c90e2202-8e4a-4f20-b9d3-83f52396e021",
   "metadata": {},
   "outputs": [],
   "source": [
    "Q5.What are some common functions you can use to manipulate data in a Pandas DataFrame? Can you give an example of when you might use one of these \n",
    "functions?"
   ]
  },
  {
   "cell_type": "code",
   "execution_count": null,
   "id": "d09a94fa-df80-4729-b935-1fd27911c5ad",
   "metadata": {},
   "outputs": [],
   "source": [
    "Pandas offers a range of functions for data manipulation in DataFrames:\n",
    "\n",
    "head() and tail(): Display the first or last few rows.\n",
    "shape: Returns the dimensions of the DataFrame.\n",
    "info(): Provides information about the DataFrame's data types and missing values.\n",
    "describe(): Generates summary statistics.\n",
    "groupby(): Groups data based on specific columns and allows aggregation.\n",
    "sort_values(): Sorts the DataFrame based on specified columns.\n",
    "fillna(): Fills missing values with a specified value or method.\n",
    "drop(): Removes rows or columns.\n",
    "apply(): Applies a function to each element.\n",
    "merge(): Combines DataFrames based on keys.\n",
    "pivot_table(): Creates a pivot table for cross-tabulation.\n",
    "duplicated(): Identifies duplicated rows.\n",
    "plot(): Creates basic plots"
   ]
  },
  {
   "cell_type": "code",
   "execution_count": null,
   "id": "b2eed8a6-ba12-4d57-8b85-c15e738b7251",
   "metadata": {},
   "outputs": [],
   "source": [
    "Q6. Which of the following is mutable in nature Series, DataFrame, Panel?"
   ]
  },
  {
   "cell_type": "code",
   "execution_count": null,
   "id": "b36523f9-5c33-4b45-a9e6-9d6f5d48e812",
   "metadata": {},
   "outputs": [],
   "source": [
    "Out of Series, DataFrame, and Panel in Pandas, DataFrame is mutable in nature. This means you can change the values and add or remove rows or columns \n",
    "after creating a DataFrame. Series, on the other hand, is only value-mutable, meaning you can change the values within it but not its length. \n",
    "Panel is a three-dimensional data structure in Pandas, but it has been deprecated in favor of using MultiIndex DataFrames.\n",
    "\n",
    "For example, in a DataFrame, you can modify cell values, add new columns, or drop existing columns, making it a flexible choice for data manipulation \n",
    "and analysis"
   ]
  },
  {
   "cell_type": "code",
   "execution_count": null,
   "id": "1e917f6c-8b9e-42f6-8a06-f8eccf7725a6",
   "metadata": {},
   "outputs": [],
   "source": []
  },
  {
   "cell_type": "code",
   "execution_count": null,
   "id": "1b183182-06c9-4e30-b313-b47a66f04fca",
   "metadata": {},
   "outputs": [],
   "source": [
    "create a DataFrame from multiple Series in Pandas by using methods like pd.concat() or by directly using the DataFrame constructor. For example, \n",
    "using pd.concat(), you can merge multiple Series as columns of the DataFrame.\n"
   ]
  },
  {
   "cell_type": "code",
   "execution_count": 14,
   "id": "469af7af-51e4-4902-946b-deb62b094b87",
   "metadata": {},
   "outputs": [
    {
     "name": "stdout",
     "output_type": "stream",
     "text": [
      "   Numbers Letters\n",
      "0        1       A\n",
      "1        2       B\n",
      "2        3       C\n"
     ]
    }
   ],
   "source": [
    "import pandas as pd\n",
    "\n",
    "# Creating two Series\n",
    "s1 = pd.Series([1, 2, 3])\n",
    "s2 = pd.Series(['A', 'B', 'C'])\n",
    "\n",
    "df = pd.DataFrame({'Numbers': s1, 'Letters': s2})\n",
    "print(df)\n",
    "\n"
   ]
  },
  {
   "cell_type": "code",
   "execution_count": null,
   "id": "307ccaa6-64ae-43de-970a-cc99ce128d59",
   "metadata": {},
   "outputs": [],
   "source": []
  }
 ],
 "metadata": {
  "kernelspec": {
   "display_name": "Python 3 (ipykernel)",
   "language": "python",
   "name": "python3"
  },
  "language_info": {
   "codemirror_mode": {
    "name": "ipython",
    "version": 3
   },
   "file_extension": ".py",
   "mimetype": "text/x-python",
   "name": "python",
   "nbconvert_exporter": "python",
   "pygments_lexer": "ipython3",
   "version": "3.10.8"
  }
 },
 "nbformat": 4,
 "nbformat_minor": 5
}
